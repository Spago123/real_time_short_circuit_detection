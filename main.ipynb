version https://git-lfs.github.com/spec/v1
oid sha256:043b4d14ccf94b14f037ccb304c3eafb72238d243e1a2d44b1b3a4a906ac7ccc
size 19370
